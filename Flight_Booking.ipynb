{
 "cells": [
  {
   "cell_type": "code",
   "execution_count": null,
   "id": "6d129cb9",
   "metadata": {},
   "outputs": [],
   "source": [
    "##### Importing the Libraries:-\n",
    "import pandas as pd\n",
    "import numpy as np\n",
    "import seaborn as sns\n",
    "import matplotlib.pyplot as plt"
   ]
  },
  {
   "cell_type": "code",
   "execution_count": null,
   "id": "aca76d66",
   "metadata": {},
   "outputs": [],
   "source": [
    "##### Loading the data:-\n",
    "import pandas as pd\n",
    "df = pd.read_csv(C:\\Users\\user\\OneDrive\\Desktop\\Data Science and AI Course Notes\\Intellipaat Notes\\Python\\Projects\\Filght Booking Project)\n",
    "df = drop(columns=[\"unnamed: 0\"])\n",
    "df.head()"
   ]
  },
  {
   "cell_type": "code",
   "execution_count": null,
   "id": "85ee5424",
   "metadata": {},
   "outputs": [],
   "source": [
    "##### Checking the shape of a dataframe and datatypes of all columns along with calculating the statistical data.\n",
    "df.shape"
   ]
  },
  {
   "cell_type": "code",
   "execution_count": null,
   "id": "2ffd0635",
   "metadata": {},
   "outputs": [],
   "source": [
    "df.info()"
   ]
  },
  {
   "cell_type": "code",
   "execution_count": null,
   "id": "d3ac0a4c",
   "metadata": {},
   "outputs": [],
   "source": [
    "df.describe()"
   ]
  },
  {
   "cell_type": "code",
   "execution_count": null,
   "id": "98e6c590",
   "metadata": {},
   "outputs": [],
   "source": [
    "##### Missing Values:-\n",
    "df.isnull().sum()"
   ]
  },
  {
   "cell_type": "code",
   "execution_count": null,
   "id": "8384a477",
   "metadata": {},
   "outputs": [],
   "source": [
    "##### Data Visualization:-\n",
    "\n",
    "plt.figure(figsize=(15,5))\n",
    "sns.lineplot(x=df['airline'],y=df['price'])\n",
    "ply.title('Airlines vs Price',fontsize=15)\n",
    "plt.xlabel('Airline',fontsize=15)\n",
    "plt.ylabel('Price',fontsize=15)\n",
    "plt.show"
   ]
  },
  {
   "cell_type": "code",
   "execution_count": null,
   "id": "f8d7c6eb",
   "metadata": {},
   "outputs": [],
   "source": [
    "plt.figure(figsize=(15,5))\n",
    "sns.lineplot(data=df,x='days_left',y='price',color='blue')\n",
    "ply.title('Days left for Departure verse Ticket Price',fontsize=15)\n",
    "plt.xlabel('Days left for Departure',fontsize=15)\n",
    "plt.ylabel('Price',fontsize=15)\n",
    "plt.show"
   ]
  },
  {
   "cell_type": "code",
   "execution_count": null,
   "id": "386d3ed2",
   "metadata": {},
   "outputs": [],
   "source": [
    "plt.figure(figsize=(10,5))\n",
    "sns.barplot(x='airline',y='price',data=df)"
   ]
  },
  {
   "cell_type": "code",
   "execution_count": null,
   "id": "25f67066",
   "metadata": {},
   "outputs": [],
   "source": [
    "plt.figure(figsize=(10,8))\n",
    "sns.barplot(x='class',y='price',data=df,hue='airline')"
   ]
  },
  {
   "cell_type": "code",
   "execution_count": null,
   "id": "3c1bcb0b",
   "metadata": {},
   "outputs": [],
   "source": [
    "fig,ax=plt.subplots(1,2,figsize=(20,6))\n",
    "sns.lineplot(x='days_left',y='price',data=df,hue='source_city',ax=ax[0])\n",
    "sns.lineplot(x='days_left',y='price',data=df,hue='destination_city',ax=ax[1])\n",
    "plt.show()"
   ]
  },
  {
   "cell_type": "code",
   "execution_count": null,
   "id": "7eb1f9bc",
   "metadata": {},
   "outputs": [],
   "source": [
    "plt.figure(figsize=(15,23))\n",
    "\n",
    "plt.subplot(4,2,1)\n",
    "sns.countplot(x=df[\"airline\"],data=df)\n",
    "plt.title(\"Frequency of airline\")\n",
    "\n",
    "plt.subplot(4,2,2)\n",
    "sns.countplot(x=df[\"source_city\"],data=df)\n",
    "plt.title(\"Frequency of source_city\")\n",
    "\n",
    "plt.subplot(4,2,3)\n",
    "sns.countplot(x=df[\"depature_time\"],data=df)\n",
    "plt.title(\"Frequency of Depature Time\")\n",
    "\n",
    "plt.subplot(4,2,4)\n",
    "sns.countplot(x=df[\"stops\"],data=df)\n",
    "plt.title(\"Frequency of stops\")\n",
    "\n",
    "plt.subplot(4,2,5)\n",
    "sns.countplot(x=df[\"arrival_time\"],data=df)\n",
    "plt.title(\"Frequency of Arrival Time\")\n",
    "\n",
    "plt.subplot(4,2,6)\n",
    "sns.countplot(x=df[\"destination_city\"],data=df)\n",
    "plt.title(\"Frequency of Destination City\")\n",
    "\n",
    "plt.subplot(4,2,7)\n",
    "sns.countplot(x=df[\"class\"],data=df)\n",
    "plt.title(\"Class Frequency\")\n",
    "\n",
    "plt.show()"
   ]
  },
  {
   "cell_type": "code",
   "execution_count": null,
   "id": "e314d4fa",
   "metadata": {},
   "outputs": [],
   "source": [
    "##### Label Encoding:-\n",
    "\n",
    "from sklearn.preprocessing import LableEncoder\n",
    "le=LabelEncoder()\n",
    "df[\"airline\"]=le.fit_transform(df[\"airline\"])\n",
    "df[\"source_city\"]=le.fit_transform(df[\"source_city\"])\n",
    "df[\"depature_time\"]=le.fit_transform(df[\"depature_time\"])\n",
    "df[\"stops\"]=le.fit_transform(df[\"stops\"])\n",
    "df[\"arrival_time\"]=le.fit_transform(df[\"arrival_time\"])\n",
    "df[\"destination_city\"]=le.fit_transform(df[\"destination_city\"])\n",
    "df[\"class\"]=le.fit_transform(df[\"class\"])\n",
    "df.info()"
   ]
  },
  {
   "cell_type": "code",
   "execution_count": null,
   "id": "4857ccfc",
   "metadata": {},
   "outputs": [],
   "source": [
    "##### Feature Selection:-\n",
    "\n",
    "plt.figure(figsize=(10,5))\n",
    "sns.heatmap(df.corr(),annot=True,cmap=\"coolwarm\")\n",
    "plt.show()"
   ]
  },
  {
   "cell_type": "code",
   "execution_count": null,
   "id": "a6647b23",
   "metadata": {},
   "outputs": [],
   "source": [
    "from statsmodels.stats.outliers_influence import variance_inflation_factor\n",
    "col_list=[]\n",
    "\n",
    "for col in df.columns:\n",
    "    if ((df[col].dtype != 'object') & (col != 'price')):\n",
    "        col_list.append(col)\n",
    "\n",
    "x = df[col_list]\n",
    "vif_data = pd.DataFrame()\n",
    "vif_data[\"Feature\"] = x.columns\n",
    "vif_data[\"VIF\"] = [variance_inflaction_factor(x.values,i) \n",
    "                           for i in range(len(x.columns))]\n",
    "print(vif_data)"
   ]
  },
  {
   "cell_type": "code",
   "execution_count": null,
   "id": "7a10dde3",
   "metadata": {},
   "outputs": [],
   "source": [
    "##### Linear Regression:-\n",
    "\n",
    "x = df.drop(columns=['price'])\n",
    "y = df('price')\n",
    "from sklearn.model_selection import train_test_split\n",
    "x_train,x_test,y_train,y_test = train_test_split(x,y,train_size = 0.2,random_state = 42)\n",
    "from sklearn.preprocessing import StandardScaler\n",
    "sc = StandardScaler()\n",
    "x_train = sc.fit_transform(x_train)\n",
    "x_test = sc.fit_transform(x_test)\n",
    "from sklearn.linear_model import LinearRegression\n",
    "lr = LinearRegression()\n",
    "lr.fit(x_train,y_train)\n",
    "y_pred=lr.predict(x_test)\n",
    "difference=pd.DataFrame(np.c_[y_test,y_pred],columns=[\"Actual_Value\",\"Predicted_Value\"])\n",
    "difference"
   ]
  },
  {
   "cell_type": "code",
   "execution_count": null,
   "id": "65a95901",
   "metadata": {},
   "outputs": [],
   "source": [
    "from sklearn.metrics import r2_score\n",
    "r2_score(y_test,y_pred)\n",
    "from sklearn import metrics\n",
    "mean_abs_error = metrics.mean_absolute_error(y_test,y_pred)\n",
    "mean_abs_error\n",
    "from sklearn.metrics import mean_absolute_percentage_error\n",
    "mean_absolute_percentage_error(y_test,y_pred)\n",
    "mean_sq_error=metrics.mean_squared_error(y_test,y_pred)\n",
    "mean_sq_error\n",
    "root_mean_sq_error=np.sqrt(matrics.mean_squaed_error(y_test,y_pred))\n",
    "root_mean_sq_error"
   ]
  },
  {
   "cell_type": "code",
   "execution_count": null,
   "id": "d3d45cf7",
   "metadata": {},
   "outputs": [],
   "source": [
    "##### Linear Regression:-\n",
    "\n",
    "snsdistplot(y_test,label = 'Actual')\n",
    "snsdistplot(y_pred,label = 'Predicted')\n",
    "plt.legend()"
   ]
  },
  {
   "cell_type": "code",
   "execution_count": null,
   "id": "28a7d4ec",
   "metadata": {},
   "outputs": [],
   "source": [
    "##### Decision Tree Regressor:-\n",
    "\n",
    "from sklearn.tree import DecisionTreeRegressor\n",
    "dt = DecisionTreeRegressor()\n",
    "dt.fit(x_train,y_train)\n",
    "y_pred = dt.predict(x_test)\n",
    "r2_score(y_test,y_pred)\n",
    "mean_abs_error=matrics.mean_absolute_errpr(y_test,y_pred)\n",
    "mean_abs_error\n",
    "from sklearn.matrics import mean_absolute_percentage_error\n",
    "mean_absolute_percentage_error(y_test,y_pred)\n",
    "mean_sq_error=metrics.mean_squared_error(y_test,y_pred)\n",
    "mean_sq_error\n",
    "root_mean_sq_error=np.sqrt(matrics.mean_squaed_error(y_test,y_pred))\n",
    "root_mean_sq_error"
   ]
  },
  {
   "cell_type": "code",
   "execution_count": null,
   "id": "bf878dc6",
   "metadata": {},
   "outputs": [],
   "source": [
    "##### Random Forest Regressor:-\n",
    "from sklearn.ensemble import RandomForestRegressor\n",
    "rfr = RandomForestRegressor()\n",
    "rfr.fit(x_train,y_train)\n",
    "y_pred = rfr.predict(x_test)\n",
    "r2_score(y_test,y_pred)\n",
    "mean_abs_error=matrics.mean_absolute_errpr(y_test,y_pred)\n",
    "mean_abs_error\n",
    "from sklearn.matrics import mean_absolute_percentage_error\n",
    "mean_absolute_percentage_error(y_test,y_pred)\n",
    "mean_sq_error=metrics.mean_squared_error(y_test,y_pred)\n",
    "mean_sq_error\n",
    "root_mean_sq_error=np.sqrt(matrics.mean_squaed_error(y_test,y_pred))\n",
    "root_mean_sq_error"
   ]
  }
 ],
 "metadata": {
  "kernelspec": {
   "display_name": "Python 3 (ipykernel)",
   "language": "python",
   "name": "python3"
  },
  "language_info": {
   "codemirror_mode": {
    "name": "ipython",
    "version": 3
   },
   "file_extension": ".py",
   "mimetype": "text/x-python",
   "name": "python",
   "nbconvert_exporter": "python",
   "pygments_lexer": "ipython3",
   "version": "3.10.9"
  }
 },
 "nbformat": 4,
 "nbformat_minor": 5
}
